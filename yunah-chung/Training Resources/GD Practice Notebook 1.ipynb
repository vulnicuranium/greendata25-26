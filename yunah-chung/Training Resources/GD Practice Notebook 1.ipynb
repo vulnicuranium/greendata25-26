{
 "cells": [
  {
   "cell_type": "markdown",
   "id": "8d8bca57",
   "metadata": {
    "id": "8d8bca57"
   },
   "source": [
    "# Notebook 1: Green Data Python Analysis – Foundations\n",
    "### Welcome to Green Data!\n",
    "\n",
    "### Topics covered: Python Setup, Data Cleaning, Data Wrangling, Data Visualization (basics), Time Series (basics)\n"
   ]
  },
  {
   "cell_type": "markdown",
   "id": "352eaa0e",
   "metadata": {
    "id": "352eaa0e"
   },
   "source": [
    "## Getting Started with Python"
   ]
  },
  {
   "cell_type": "markdown",
   "id": "cb7ab4e4",
   "metadata": {
    "id": "cb7ab4e4"
   },
   "source": [
    "#### Importing Packages"
   ]
  },
  {
   "cell_type": "markdown",
   "id": "dc7b158e",
   "metadata": {
    "id": "dc7b158e"
   },
   "source": [
    "Packages contain useful functions that anyone can import to use on Python. These are the main ones we will be using:"
   ]
  },
  {
   "cell_type": "code",
   "execution_count": 1,
   "id": "5c91c5d9",
   "metadata": {
    "id": "5c91c5d9"
   },
   "outputs": [],
   "source": [
    "import numpy as np  #for mathematical operations\n",
    "\n",
    "import scipy as sc #for more advanced mathematical operations\n",
    "\n",
    "import matplotlib.pyplot as plt  #for plotting data\n",
    "\n",
    "import pandas as pd  #for data analysis"
   ]
  },
  {
   "cell_type": "markdown",
   "id": "ea1511b8",
   "metadata": {
    "id": "ea1511b8"
   },
   "source": [
    "#### Importing Datasets"
   ]
  },
  {
   "cell_type": "markdown",
   "id": "81ceeece",
   "metadata": {
    "id": "81ceeece"
   },
   "source": [
    "First, download the example dataset from our Green Data folder here: https://drive.google.com/drive/u/1/folders/1K5UGTtDnP4tCr5Y3hJNCDsuPKoV2JZFR\n",
    "\n",
    "Make sure you save it somewhere you can find the path."
   ]
  },
  {
   "cell_type": "markdown",
   "id": "95431b40",
   "metadata": {
    "id": "95431b40"
   },
   "source": [
    "Define an object called 'path' with the path where you saved your dataset. It should look something like this:\n",
    "\"/Users/panchalichoudhary/Desktop/GD_exampledataset.csv\"\n",
    "\n",
    "Make sure you don't forget the quotation marks."
   ]
  },
  {
   "cell_type": "code",
   "execution_count": 2,
   "id": "dea62230",
   "metadata": {
    "id": "dea62230"
   },
   "outputs": [],
   "source": [
    "# Define the path to your dataset\n",
    "path = 'GD_exampledataset.csv'"
   ]
  },
  {
   "cell_type": "markdown",
   "id": "3af731d7",
   "metadata": {
    "id": "3af731d7"
   },
   "source": [
    "Now, we will use the pandas function pd.read_csv() to import our dataset. Define an object called 'df', plugging your path into the function."
   ]
  },
  {
   "cell_type": "code",
   "execution_count": 3,
   "id": "cb284c9d",
   "metadata": {
    "id": "cb284c9d"
   },
   "outputs": [],
   "source": [
    "# Read in your dataset with pandas\n",
    "df = pd.read_csv(path)"
   ]
  },
  {
   "cell_type": "markdown",
   "id": "8f848599",
   "metadata": {
    "id": "8f848599"
   },
   "source": [
    "Visualize your dataset."
   ]
  },
  {
   "cell_type": "code",
   "execution_count": 31,
   "id": "a649f400",
   "metadata": {
    "id": "a649f400"
   },
   "outputs": [
    {
     "data": {
      "text/html": [
       "<div>\n",
       "<style scoped>\n",
       "    .dataframe tbody tr th:only-of-type {\n",
       "        vertical-align: middle;\n",
       "    }\n",
       "\n",
       "    .dataframe tbody tr th {\n",
       "        vertical-align: top;\n",
       "    }\n",
       "\n",
       "    .dataframe thead th {\n",
       "        text-align: right;\n",
       "    }\n",
       "</style>\n",
       "<table border=\"1\" class=\"dataframe\">\n",
       "  <thead>\n",
       "    <tr style=\"text-align: right;\">\n",
       "      <th></th>\n",
       "      <th>Building_Name</th>\n",
       "      <th>Energy_Usage (kWh)</th>\n",
       "      <th>Water_Usage (gal)</th>\n",
       "      <th>GHG_Emissions (kg)</th>\n",
       "      <th>Waste_Generation (kg/month)</th>\n",
       "      <th>Type_of_Building</th>\n",
       "      <th>Waste_Generation (kg/month) [Normalized]</th>\n",
       "    </tr>\n",
       "  </thead>\n",
       "  <tbody>\n",
       "    <tr>\n",
       "      <th>0</th>\n",
       "      <td>Eco Tower</td>\n",
       "      <td>45000</td>\n",
       "      <td>28000.0</td>\n",
       "      <td>6000</td>\n",
       "      <td>-0.771319</td>\n",
       "      <td>Residential</td>\n",
       "      <td>0.264706</td>\n",
       "    </tr>\n",
       "    <tr>\n",
       "      <th>1</th>\n",
       "      <td>Green Office</td>\n",
       "      <td>32000</td>\n",
       "      <td>18000.0</td>\n",
       "      <td>4800</td>\n",
       "      <td>-1.557615</td>\n",
       "      <td>Comercial</td>\n",
       "      <td>0.058824</td>\n",
       "    </tr>\n",
       "    <tr>\n",
       "      <th>2</th>\n",
       "      <td>Solaris Mall</td>\n",
       "      <td>75000</td>\n",
       "      <td>42000.0</td>\n",
       "      <td>10500</td>\n",
       "      <td>2.036881</td>\n",
       "      <td>Comercial</td>\n",
       "      <td>1.000000</td>\n",
       "    </tr>\n",
       "    <tr>\n",
       "      <th>3</th>\n",
       "      <td>Sustainable HQ</td>\n",
       "      <td>56000</td>\n",
       "      <td>32000.0</td>\n",
       "      <td>7000</td>\n",
       "      <td>-0.209679</td>\n",
       "      <td>Comercial</td>\n",
       "      <td>0.411765</td>\n",
       "    </tr>\n",
       "    <tr>\n",
       "      <th>4</th>\n",
       "      <td>Eco Haven</td>\n",
       "      <td>39000</td>\n",
       "      <td>NaN</td>\n",
       "      <td>5800</td>\n",
       "      <td>-0.995975</td>\n",
       "      <td>School</td>\n",
       "      <td>0.205882</td>\n",
       "    </tr>\n",
       "    <tr>\n",
       "      <th>5</th>\n",
       "      <td>Eco Dynamics</td>\n",
       "      <td>42000</td>\n",
       "      <td>24000.0</td>\n",
       "      <td>6500</td>\n",
       "      <td>-0.546663</td>\n",
       "      <td>Residential</td>\n",
       "      <td>0.323529</td>\n",
       "    </tr>\n",
       "    <tr>\n",
       "      <th>6</th>\n",
       "      <td>Green Plaza</td>\n",
       "      <td>30000</td>\n",
       "      <td>17000.0</td>\n",
       "      <td>4500</td>\n",
       "      <td>-1.782270</td>\n",
       "      <td>Comercial</td>\n",
       "      <td>0.000000</td>\n",
       "    </tr>\n",
       "    <tr>\n",
       "      <th>7</th>\n",
       "      <td>Solar Heights</td>\n",
       "      <td>68000</td>\n",
       "      <td>38000.0</td>\n",
       "      <td>9500</td>\n",
       "      <td>1.475241</td>\n",
       "      <td>Residential</td>\n",
       "      <td>0.852941</td>\n",
       "    </tr>\n",
       "    <tr>\n",
       "      <th>8</th>\n",
       "      <td>Terra Green</td>\n",
       "      <td>59000</td>\n",
       "      <td>33000.0</td>\n",
       "      <td>7200</td>\n",
       "      <td>0.014977</td>\n",
       "      <td>School</td>\n",
       "      <td>0.470588</td>\n",
       "    </tr>\n",
       "    <tr>\n",
       "      <th>9</th>\n",
       "      <td>BioTech Tower</td>\n",
       "      <td>48000</td>\n",
       "      <td>27000.0</td>\n",
       "      <td>6000</td>\n",
       "      <td>-0.771319</td>\n",
       "      <td>School</td>\n",
       "      <td>0.264706</td>\n",
       "    </tr>\n",
       "    <tr>\n",
       "      <th>10</th>\n",
       "      <td>Eco Innovations</td>\n",
       "      <td>44000</td>\n",
       "      <td>25000.0</td>\n",
       "      <td>6200</td>\n",
       "      <td>-0.658991</td>\n",
       "      <td>Comercial</td>\n",
       "      <td>0.294118</td>\n",
       "    </tr>\n",
       "    <tr>\n",
       "      <th>11</th>\n",
       "      <td>Aqua Center</td>\n",
       "      <td>67000</td>\n",
       "      <td>37000.0</td>\n",
       "      <td>9200</td>\n",
       "      <td>1.250585</td>\n",
       "      <td>Residential</td>\n",
       "      <td>0.794118</td>\n",
       "    </tr>\n",
       "    <tr>\n",
       "      <th>12</th>\n",
       "      <td>Harmony Hall</td>\n",
       "      <td>51000</td>\n",
       "      <td>29000.0</td>\n",
       "      <td>6800</td>\n",
       "      <td>-0.322007</td>\n",
       "      <td>School</td>\n",
       "      <td>0.382353</td>\n",
       "    </tr>\n",
       "    <tr>\n",
       "      <th>13</th>\n",
       "      <td>Green Horizon</td>\n",
       "      <td>43000</td>\n",
       "      <td>24000.0</td>\n",
       "      <td>6100</td>\n",
       "      <td>-0.771319</td>\n",
       "      <td>Residential</td>\n",
       "      <td>0.264706</td>\n",
       "    </tr>\n",
       "    <tr>\n",
       "      <th>14</th>\n",
       "      <td>Solar Power Plaza</td>\n",
       "      <td>72000</td>\n",
       "      <td>40000.0</td>\n",
       "      <td>10000</td>\n",
       "      <td>1.812225</td>\n",
       "      <td>Comercial</td>\n",
       "      <td>0.941176</td>\n",
       "    </tr>\n",
       "    <tr>\n",
       "      <th>15</th>\n",
       "      <td>Eco Office Park</td>\n",
       "      <td>55000</td>\n",
       "      <td>31000.0</td>\n",
       "      <td>6900</td>\n",
       "      <td>-0.209679</td>\n",
       "      <td>Residential</td>\n",
       "      <td>0.411765</td>\n",
       "    </tr>\n",
       "    <tr>\n",
       "      <th>16</th>\n",
       "      <td>Sustainable Hub</td>\n",
       "      <td>60000</td>\n",
       "      <td>34000.0</td>\n",
       "      <td>7500</td>\n",
       "      <td>0.127305</td>\n",
       "      <td>Comercial</td>\n",
       "      <td>0.500000</td>\n",
       "    </tr>\n",
       "    <tr>\n",
       "      <th>17</th>\n",
       "      <td>Nature's Place</td>\n",
       "      <td>36000</td>\n",
       "      <td>20000.0</td>\n",
       "      <td>5200</td>\n",
       "      <td>-1.332959</td>\n",
       "      <td>School</td>\n",
       "      <td>0.117647</td>\n",
       "    </tr>\n",
       "    <tr>\n",
       "      <th>18</th>\n",
       "      <td>Green Terrace</td>\n",
       "      <td>40000</td>\n",
       "      <td>23000.0</td>\n",
       "      <td>5900</td>\n",
       "      <td>-0.883647</td>\n",
       "      <td>Residential</td>\n",
       "      <td>0.235294</td>\n",
       "    </tr>\n",
       "    <tr>\n",
       "      <th>19</th>\n",
       "      <td>Solar Heights</td>\n",
       "      <td>63000</td>\n",
       "      <td>36000.0</td>\n",
       "      <td>8800</td>\n",
       "      <td>1.025929</td>\n",
       "      <td>Residential</td>\n",
       "      <td>0.735294</td>\n",
       "    </tr>\n",
       "    <tr>\n",
       "      <th>20</th>\n",
       "      <td>BioTech Center</td>\n",
       "      <td>47000</td>\n",
       "      <td>26000.0</td>\n",
       "      <td>6200</td>\n",
       "      <td>-0.658991</td>\n",
       "      <td>Comercial</td>\n",
       "      <td>0.294118</td>\n",
       "    </tr>\n",
       "    <tr>\n",
       "      <th>21</th>\n",
       "      <td>Eco Oasis</td>\n",
       "      <td>41000</td>\n",
       "      <td>23000.0</td>\n",
       "      <td>5800</td>\n",
       "      <td>-0.995975</td>\n",
       "      <td>School</td>\n",
       "      <td>0.205882</td>\n",
       "    </tr>\n",
       "    <tr>\n",
       "      <th>22</th>\n",
       "      <td>Green Park</td>\n",
       "      <td>48000</td>\n",
       "      <td>27000.0</td>\n",
       "      <td>6900</td>\n",
       "      <td>-0.209679</td>\n",
       "      <td>Residential</td>\n",
       "      <td>0.411765</td>\n",
       "    </tr>\n",
       "    <tr>\n",
       "      <th>23</th>\n",
       "      <td>Sunrise Tower</td>\n",
       "      <td>70000</td>\n",
       "      <td>39000.0</td>\n",
       "      <td>9600</td>\n",
       "      <td>1.475241</td>\n",
       "      <td>Comercial</td>\n",
       "      <td>0.852941</td>\n",
       "    </tr>\n",
       "    <tr>\n",
       "      <th>24</th>\n",
       "      <td>Eco Village</td>\n",
       "      <td>52000</td>\n",
       "      <td>29000.0</td>\n",
       "      <td>7000</td>\n",
       "      <td>-0.097351</td>\n",
       "      <td>Residential</td>\n",
       "      <td>0.441176</td>\n",
       "    </tr>\n",
       "    <tr>\n",
       "      <th>25</th>\n",
       "      <td>Green Innovations</td>\n",
       "      <td>46000</td>\n",
       "      <td>26000.0</td>\n",
       "      <td>6500</td>\n",
       "      <td>-0.546663</td>\n",
       "      <td>Comercial</td>\n",
       "      <td>0.323529</td>\n",
       "    </tr>\n",
       "    <tr>\n",
       "      <th>26</th>\n",
       "      <td>Sunset View</td>\n",
       "      <td>64000</td>\n",
       "      <td>36000.0</td>\n",
       "      <td>9200</td>\n",
       "      <td>1.250585</td>\n",
       "      <td>School</td>\n",
       "      <td>0.794118</td>\n",
       "    </tr>\n",
       "    <tr>\n",
       "      <th>27</th>\n",
       "      <td>Eco Center</td>\n",
       "      <td>55000</td>\n",
       "      <td>31000.0</td>\n",
       "      <td>7500</td>\n",
       "      <td>0.127305</td>\n",
       "      <td>School</td>\n",
       "      <td>0.500000</td>\n",
       "    </tr>\n",
       "    <tr>\n",
       "      <th>28</th>\n",
       "      <td>Green Living</td>\n",
       "      <td>38000</td>\n",
       "      <td>21000.0</td>\n",
       "      <td>5500</td>\n",
       "      <td>-1.108303</td>\n",
       "      <td>Residential</td>\n",
       "      <td>0.176471</td>\n",
       "    </tr>\n",
       "    <tr>\n",
       "      <th>29</th>\n",
       "      <td>Sunshine Plaza</td>\n",
       "      <td>43000</td>\n",
       "      <td>24000.0</td>\n",
       "      <td>6000</td>\n",
       "      <td>-0.771319</td>\n",
       "      <td>Comercial</td>\n",
       "      <td>0.264706</td>\n",
       "    </tr>\n",
       "    <tr>\n",
       "      <th>30</th>\n",
       "      <td>Eco Heights</td>\n",
       "      <td>60000</td>\n",
       "      <td>34000.0</td>\n",
       "      <td>8400</td>\n",
       "      <td>0.801273</td>\n",
       "      <td>Residential</td>\n",
       "      <td>0.676471</td>\n",
       "    </tr>\n",
       "    <tr>\n",
       "      <th>31</th>\n",
       "      <td>Green Oasis</td>\n",
       "      <td>49000</td>\n",
       "      <td>28000.0</td>\n",
       "      <td>7200</td>\n",
       "      <td>0.014977</td>\n",
       "      <td>School</td>\n",
       "      <td>0.470588</td>\n",
       "    </tr>\n",
       "    <tr>\n",
       "      <th>32</th>\n",
       "      <td>Sunrise Terrace</td>\n",
       "      <td>72000</td>\n",
       "      <td>40000.0</td>\n",
       "      <td>10000</td>\n",
       "      <td>1.812225</td>\n",
       "      <td>Residential</td>\n",
       "      <td>0.941176</td>\n",
       "    </tr>\n",
       "    <tr>\n",
       "      <th>33</th>\n",
       "      <td>Eco Complex</td>\n",
       "      <td>58000</td>\n",
       "      <td>33000.0</td>\n",
       "      <td>8000</td>\n",
       "      <td>0.464289</td>\n",
       "      <td>Residential</td>\n",
       "      <td>0.588235</td>\n",
       "    </tr>\n",
       "    <tr>\n",
       "      <th>34</th>\n",
       "      <td>Green Haven</td>\n",
       "      <td>52000</td>\n",
       "      <td>29000.0</td>\n",
       "      <td>7000</td>\n",
       "      <td>-0.097351</td>\n",
       "      <td>School</td>\n",
       "      <td>0.441176</td>\n",
       "    </tr>\n",
       "    <tr>\n",
       "      <th>35</th>\n",
       "      <td>Sunset Tower</td>\n",
       "      <td>66000</td>\n",
       "      <td>37000.0</td>\n",
       "      <td>9200</td>\n",
       "      <td>1.250585</td>\n",
       "      <td>Residential</td>\n",
       "      <td>0.794118</td>\n",
       "    </tr>\n",
       "    <tr>\n",
       "      <th>36</th>\n",
       "      <td>Eco Innovations</td>\n",
       "      <td>44000</td>\n",
       "      <td>25000.0</td>\n",
       "      <td>6200</td>\n",
       "      <td>-0.658991</td>\n",
       "      <td>Comercial</td>\n",
       "      <td>0.294118</td>\n",
       "    </tr>\n",
       "    <tr>\n",
       "      <th>37</th>\n",
       "      <td>Green Park</td>\n",
       "      <td>48000</td>\n",
       "      <td>27000.0</td>\n",
       "      <td>6900</td>\n",
       "      <td>-0.209679</td>\n",
       "      <td>Residential</td>\n",
       "      <td>0.411765</td>\n",
       "    </tr>\n",
       "    <tr>\n",
       "      <th>38</th>\n",
       "      <td>Sunrise Plaza</td>\n",
       "      <td>68000</td>\n",
       "      <td>38000.0</td>\n",
       "      <td>9500</td>\n",
       "      <td>1.475241</td>\n",
       "      <td>Residential</td>\n",
       "      <td>0.852941</td>\n",
       "    </tr>\n",
       "    <tr>\n",
       "      <th>39</th>\n",
       "      <td>Eco Village</td>\n",
       "      <td>52000</td>\n",
       "      <td>29000.0</td>\n",
       "      <td>7000</td>\n",
       "      <td>-0.097351</td>\n",
       "      <td>School</td>\n",
       "      <td>0.441176</td>\n",
       "    </tr>\n",
       "    <tr>\n",
       "      <th>40</th>\n",
       "      <td>Green Oasis</td>\n",
       "      <td>49000</td>\n",
       "      <td>28000.0</td>\n",
       "      <td>7200</td>\n",
       "      <td>0.014977</td>\n",
       "      <td>School</td>\n",
       "      <td>0.470588</td>\n",
       "    </tr>\n",
       "    <tr>\n",
       "      <th>41</th>\n",
       "      <td>Sunshine View</td>\n",
       "      <td>65000</td>\n",
       "      <td>36000.0</td>\n",
       "      <td>8900</td>\n",
       "      <td>1.138257</td>\n",
       "      <td>School</td>\n",
       "      <td>0.764706</td>\n",
       "    </tr>\n",
       "    <tr>\n",
       "      <th>42</th>\n",
       "      <td>Eco Heights</td>\n",
       "      <td>60000</td>\n",
       "      <td>34000.0</td>\n",
       "      <td>8400</td>\n",
       "      <td>0.801273</td>\n",
       "      <td>Residential</td>\n",
       "      <td>0.676471</td>\n",
       "    </tr>\n",
       "    <tr>\n",
       "      <th>43</th>\n",
       "      <td>Green Living</td>\n",
       "      <td>38000</td>\n",
       "      <td>21000.0</td>\n",
       "      <td>5500</td>\n",
       "      <td>-1.108303</td>\n",
       "      <td>School</td>\n",
       "      <td>0.176471</td>\n",
       "    </tr>\n",
       "    <tr>\n",
       "      <th>44</th>\n",
       "      <td>Sunset Terrace</td>\n",
       "      <td>41000</td>\n",
       "      <td>23000.0</td>\n",
       "      <td>5800</td>\n",
       "      <td>-0.995975</td>\n",
       "      <td>Residential</td>\n",
       "      <td>0.205882</td>\n",
       "    </tr>\n",
       "  </tbody>\n",
       "</table>\n",
       "</div>"
      ],
      "text/plain": [
       "        Building_Name  Energy_Usage (kWh)  Water_Usage (gal)  \\\n",
       "0           Eco Tower               45000            28000.0   \n",
       "1        Green Office               32000            18000.0   \n",
       "2        Solaris Mall               75000            42000.0   \n",
       "3      Sustainable HQ               56000            32000.0   \n",
       "4           Eco Haven               39000                NaN   \n",
       "5        Eco Dynamics               42000            24000.0   \n",
       "6         Green Plaza               30000            17000.0   \n",
       "7       Solar Heights               68000            38000.0   \n",
       "8         Terra Green               59000            33000.0   \n",
       "9       BioTech Tower               48000            27000.0   \n",
       "10    Eco Innovations               44000            25000.0   \n",
       "11        Aqua Center               67000            37000.0   \n",
       "12       Harmony Hall               51000            29000.0   \n",
       "13      Green Horizon               43000            24000.0   \n",
       "14  Solar Power Plaza               72000            40000.0   \n",
       "15    Eco Office Park               55000            31000.0   \n",
       "16    Sustainable Hub               60000            34000.0   \n",
       "17     Nature's Place               36000            20000.0   \n",
       "18      Green Terrace               40000            23000.0   \n",
       "19      Solar Heights               63000            36000.0   \n",
       "20     BioTech Center               47000            26000.0   \n",
       "21          Eco Oasis               41000            23000.0   \n",
       "22         Green Park               48000            27000.0   \n",
       "23      Sunrise Tower               70000            39000.0   \n",
       "24        Eco Village               52000            29000.0   \n",
       "25  Green Innovations               46000            26000.0   \n",
       "26        Sunset View               64000            36000.0   \n",
       "27         Eco Center               55000            31000.0   \n",
       "28       Green Living               38000            21000.0   \n",
       "29     Sunshine Plaza               43000            24000.0   \n",
       "30        Eco Heights               60000            34000.0   \n",
       "31        Green Oasis               49000            28000.0   \n",
       "32    Sunrise Terrace               72000            40000.0   \n",
       "33        Eco Complex               58000            33000.0   \n",
       "34        Green Haven               52000            29000.0   \n",
       "35       Sunset Tower               66000            37000.0   \n",
       "36    Eco Innovations               44000            25000.0   \n",
       "37         Green Park               48000            27000.0   \n",
       "38      Sunrise Plaza               68000            38000.0   \n",
       "39        Eco Village               52000            29000.0   \n",
       "40        Green Oasis               49000            28000.0   \n",
       "41      Sunshine View               65000            36000.0   \n",
       "42        Eco Heights               60000            34000.0   \n",
       "43       Green Living               38000            21000.0   \n",
       "44     Sunset Terrace               41000            23000.0   \n",
       "\n",
       "    GHG_Emissions (kg)  Waste_Generation (kg/month) Type_of_Building  \\\n",
       "0                 6000                    -0.771319      Residential   \n",
       "1                 4800                    -1.557615        Comercial   \n",
       "2                10500                     2.036881        Comercial   \n",
       "3                 7000                    -0.209679        Comercial   \n",
       "4                 5800                    -0.995975           School   \n",
       "5                 6500                    -0.546663      Residential   \n",
       "6                 4500                    -1.782270        Comercial   \n",
       "7                 9500                     1.475241      Residential   \n",
       "8                 7200                     0.014977           School   \n",
       "9                 6000                    -0.771319           School   \n",
       "10                6200                    -0.658991        Comercial   \n",
       "11                9200                     1.250585      Residential   \n",
       "12                6800                    -0.322007           School   \n",
       "13                6100                    -0.771319      Residential   \n",
       "14               10000                     1.812225        Comercial   \n",
       "15                6900                    -0.209679      Residential   \n",
       "16                7500                     0.127305        Comercial   \n",
       "17                5200                    -1.332959           School   \n",
       "18                5900                    -0.883647      Residential   \n",
       "19                8800                     1.025929      Residential   \n",
       "20                6200                    -0.658991        Comercial   \n",
       "21                5800                    -0.995975           School   \n",
       "22                6900                    -0.209679      Residential   \n",
       "23                9600                     1.475241        Comercial   \n",
       "24                7000                    -0.097351      Residential   \n",
       "25                6500                    -0.546663        Comercial   \n",
       "26                9200                     1.250585           School   \n",
       "27                7500                     0.127305           School   \n",
       "28                5500                    -1.108303      Residential   \n",
       "29                6000                    -0.771319        Comercial   \n",
       "30                8400                     0.801273      Residential   \n",
       "31                7200                     0.014977           School   \n",
       "32               10000                     1.812225      Residential   \n",
       "33                8000                     0.464289      Residential   \n",
       "34                7000                    -0.097351           School   \n",
       "35                9200                     1.250585      Residential   \n",
       "36                6200                    -0.658991        Comercial   \n",
       "37                6900                    -0.209679      Residential   \n",
       "38                9500                     1.475241      Residential   \n",
       "39                7000                    -0.097351           School   \n",
       "40                7200                     0.014977           School   \n",
       "41                8900                     1.138257           School   \n",
       "42                8400                     0.801273      Residential   \n",
       "43                5500                    -1.108303           School   \n",
       "44                5800                    -0.995975      Residential   \n",
       "\n",
       "    Waste_Generation (kg/month) [Normalized]  \n",
       "0                                   0.264706  \n",
       "1                                   0.058824  \n",
       "2                                   1.000000  \n",
       "3                                   0.411765  \n",
       "4                                   0.205882  \n",
       "5                                   0.323529  \n",
       "6                                   0.000000  \n",
       "7                                   0.852941  \n",
       "8                                   0.470588  \n",
       "9                                   0.264706  \n",
       "10                                  0.294118  \n",
       "11                                  0.794118  \n",
       "12                                  0.382353  \n",
       "13                                  0.264706  \n",
       "14                                  0.941176  \n",
       "15                                  0.411765  \n",
       "16                                  0.500000  \n",
       "17                                  0.117647  \n",
       "18                                  0.235294  \n",
       "19                                  0.735294  \n",
       "20                                  0.294118  \n",
       "21                                  0.205882  \n",
       "22                                  0.411765  \n",
       "23                                  0.852941  \n",
       "24                                  0.441176  \n",
       "25                                  0.323529  \n",
       "26                                  0.794118  \n",
       "27                                  0.500000  \n",
       "28                                  0.176471  \n",
       "29                                  0.264706  \n",
       "30                                  0.676471  \n",
       "31                                  0.470588  \n",
       "32                                  0.941176  \n",
       "33                                  0.588235  \n",
       "34                                  0.441176  \n",
       "35                                  0.794118  \n",
       "36                                  0.294118  \n",
       "37                                  0.411765  \n",
       "38                                  0.852941  \n",
       "39                                  0.441176  \n",
       "40                                  0.470588  \n",
       "41                                  0.764706  \n",
       "42                                  0.676471  \n",
       "43                                  0.176471  \n",
       "44                                  0.205882  "
      ]
     },
     "execution_count": 31,
     "metadata": {},
     "output_type": "execute_result"
    }
   ],
   "source": [
    "# Display the first few rows\n",
    "df.head()\n",
    "\n",
    "# Or view the entire dataset\n",
    "df"
   ]
  },
  {
   "cell_type": "markdown",
   "id": "1b306656",
   "metadata": {
    "id": "1b306656"
   },
   "source": [
    "## Introduction to Data Analysis \n",
    "#### Basic Functions"
   ]
  },
  {
   "cell_type": "markdown",
   "id": "e894a28d",
   "metadata": {
    "id": "e894a28d"
   },
   "source": [
    "To check data types present in a dataset:"
   ]
  },
  {
   "cell_type": "code",
   "execution_count": 5,
   "id": "be033b91",
   "metadata": {
    "id": "be033b91"
   },
   "outputs": [],
   "source": [
    "#use .dtypes"
   ]
  },
  {
   "cell_type": "markdown",
   "id": "145cf926",
   "metadata": {
    "id": "145cf926"
   },
   "source": [
    "For a brief statistical summary:"
   ]
  },
  {
   "cell_type": "code",
   "execution_count": 32,
   "id": "cbdaf1f4",
   "metadata": {
    "id": "cbdaf1f4"
   },
   "outputs": [
    {
     "data": {
      "text/plain": [
       "<bound method NDFrame.describe of         Building_Name  Energy_Usage (kWh)  Water_Usage (gal)  \\\n",
       "0           Eco Tower               45000            28000.0   \n",
       "1        Green Office               32000            18000.0   \n",
       "2        Solaris Mall               75000            42000.0   \n",
       "3      Sustainable HQ               56000            32000.0   \n",
       "4           Eco Haven               39000                NaN   \n",
       "5        Eco Dynamics               42000            24000.0   \n",
       "6         Green Plaza               30000            17000.0   \n",
       "7       Solar Heights               68000            38000.0   \n",
       "8         Terra Green               59000            33000.0   \n",
       "9       BioTech Tower               48000            27000.0   \n",
       "10    Eco Innovations               44000            25000.0   \n",
       "11        Aqua Center               67000            37000.0   \n",
       "12       Harmony Hall               51000            29000.0   \n",
       "13      Green Horizon               43000            24000.0   \n",
       "14  Solar Power Plaza               72000            40000.0   \n",
       "15    Eco Office Park               55000            31000.0   \n",
       "16    Sustainable Hub               60000            34000.0   \n",
       "17     Nature's Place               36000            20000.0   \n",
       "18      Green Terrace               40000            23000.0   \n",
       "19      Solar Heights               63000            36000.0   \n",
       "20     BioTech Center               47000            26000.0   \n",
       "21          Eco Oasis               41000            23000.0   \n",
       "22         Green Park               48000            27000.0   \n",
       "23      Sunrise Tower               70000            39000.0   \n",
       "24        Eco Village               52000            29000.0   \n",
       "25  Green Innovations               46000            26000.0   \n",
       "26        Sunset View               64000            36000.0   \n",
       "27         Eco Center               55000            31000.0   \n",
       "28       Green Living               38000            21000.0   \n",
       "29     Sunshine Plaza               43000            24000.0   \n",
       "30        Eco Heights               60000            34000.0   \n",
       "31        Green Oasis               49000            28000.0   \n",
       "32    Sunrise Terrace               72000            40000.0   \n",
       "33        Eco Complex               58000            33000.0   \n",
       "34        Green Haven               52000            29000.0   \n",
       "35       Sunset Tower               66000            37000.0   \n",
       "36    Eco Innovations               44000            25000.0   \n",
       "37         Green Park               48000            27000.0   \n",
       "38      Sunrise Plaza               68000            38000.0   \n",
       "39        Eco Village               52000            29000.0   \n",
       "40        Green Oasis               49000            28000.0   \n",
       "41      Sunshine View               65000            36000.0   \n",
       "42        Eco Heights               60000            34000.0   \n",
       "43       Green Living               38000            21000.0   \n",
       "44     Sunset Terrace               41000            23000.0   \n",
       "\n",
       "    GHG_Emissions (kg)  Waste_Generation (kg/month) Type_of_Building  \\\n",
       "0                 6000                    -0.771319      Residential   \n",
       "1                 4800                    -1.557615        Comercial   \n",
       "2                10500                     2.036881        Comercial   \n",
       "3                 7000                    -0.209679        Comercial   \n",
       "4                 5800                    -0.995975           School   \n",
       "5                 6500                    -0.546663      Residential   \n",
       "6                 4500                    -1.782270        Comercial   \n",
       "7                 9500                     1.475241      Residential   \n",
       "8                 7200                     0.014977           School   \n",
       "9                 6000                    -0.771319           School   \n",
       "10                6200                    -0.658991        Comercial   \n",
       "11                9200                     1.250585      Residential   \n",
       "12                6800                    -0.322007           School   \n",
       "13                6100                    -0.771319      Residential   \n",
       "14               10000                     1.812225        Comercial   \n",
       "15                6900                    -0.209679      Residential   \n",
       "16                7500                     0.127305        Comercial   \n",
       "17                5200                    -1.332959           School   \n",
       "18                5900                    -0.883647      Residential   \n",
       "19                8800                     1.025929      Residential   \n",
       "20                6200                    -0.658991        Comercial   \n",
       "21                5800                    -0.995975           School   \n",
       "22                6900                    -0.209679      Residential   \n",
       "23                9600                     1.475241        Comercial   \n",
       "24                7000                    -0.097351      Residential   \n",
       "25                6500                    -0.546663        Comercial   \n",
       "26                9200                     1.250585           School   \n",
       "27                7500                     0.127305           School   \n",
       "28                5500                    -1.108303      Residential   \n",
       "29                6000                    -0.771319        Comercial   \n",
       "30                8400                     0.801273      Residential   \n",
       "31                7200                     0.014977           School   \n",
       "32               10000                     1.812225      Residential   \n",
       "33                8000                     0.464289      Residential   \n",
       "34                7000                    -0.097351           School   \n",
       "35                9200                     1.250585      Residential   \n",
       "36                6200                    -0.658991        Comercial   \n",
       "37                6900                    -0.209679      Residential   \n",
       "38                9500                     1.475241      Residential   \n",
       "39                7000                    -0.097351           School   \n",
       "40                7200                     0.014977           School   \n",
       "41                8900                     1.138257           School   \n",
       "42                8400                     0.801273      Residential   \n",
       "43                5500                    -1.108303           School   \n",
       "44                5800                    -0.995975      Residential   \n",
       "\n",
       "    Waste_Generation (kg/month) [Normalized]  \n",
       "0                                   0.264706  \n",
       "1                                   0.058824  \n",
       "2                                   1.000000  \n",
       "3                                   0.411765  \n",
       "4                                   0.205882  \n",
       "5                                   0.323529  \n",
       "6                                   0.000000  \n",
       "7                                   0.852941  \n",
       "8                                   0.470588  \n",
       "9                                   0.264706  \n",
       "10                                  0.294118  \n",
       "11                                  0.794118  \n",
       "12                                  0.382353  \n",
       "13                                  0.264706  \n",
       "14                                  0.941176  \n",
       "15                                  0.411765  \n",
       "16                                  0.500000  \n",
       "17                                  0.117647  \n",
       "18                                  0.235294  \n",
       "19                                  0.735294  \n",
       "20                                  0.294118  \n",
       "21                                  0.205882  \n",
       "22                                  0.411765  \n",
       "23                                  0.852941  \n",
       "24                                  0.441176  \n",
       "25                                  0.323529  \n",
       "26                                  0.794118  \n",
       "27                                  0.500000  \n",
       "28                                  0.176471  \n",
       "29                                  0.264706  \n",
       "30                                  0.676471  \n",
       "31                                  0.470588  \n",
       "32                                  0.941176  \n",
       "33                                  0.588235  \n",
       "34                                  0.441176  \n",
       "35                                  0.794118  \n",
       "36                                  0.294118  \n",
       "37                                  0.411765  \n",
       "38                                  0.852941  \n",
       "39                                  0.441176  \n",
       "40                                  0.470588  \n",
       "41                                  0.764706  \n",
       "42                                  0.676471  \n",
       "43                                  0.176471  \n",
       "44                                  0.205882  >"
      ]
     },
     "execution_count": 32,
     "metadata": {},
     "output_type": "execute_result"
    }
   ],
   "source": [
    "df.describe"
   ]
  },
  {
   "cell_type": "markdown",
   "id": "c33350b8",
   "metadata": {
    "id": "c33350b8"
   },
   "source": [
    "For a full statistical summary (all columns, including non-numerical):"
   ]
  },
  {
   "cell_type": "code",
   "execution_count": 33,
   "id": "79d2c574",
   "metadata": {
    "id": "79d2c574"
   },
   "outputs": [
    {
     "data": {
      "text/plain": [
       "<bound method NDFrame.describe of         Building_Name  Energy_Usage (kWh)  Water_Usage (gal)  \\\n",
       "0           Eco Tower               45000            28000.0   \n",
       "1        Green Office               32000            18000.0   \n",
       "2        Solaris Mall               75000            42000.0   \n",
       "3      Sustainable HQ               56000            32000.0   \n",
       "4           Eco Haven               39000                NaN   \n",
       "5        Eco Dynamics               42000            24000.0   \n",
       "6         Green Plaza               30000            17000.0   \n",
       "7       Solar Heights               68000            38000.0   \n",
       "8         Terra Green               59000            33000.0   \n",
       "9       BioTech Tower               48000            27000.0   \n",
       "10    Eco Innovations               44000            25000.0   \n",
       "11        Aqua Center               67000            37000.0   \n",
       "12       Harmony Hall               51000            29000.0   \n",
       "13      Green Horizon               43000            24000.0   \n",
       "14  Solar Power Plaza               72000            40000.0   \n",
       "15    Eco Office Park               55000            31000.0   \n",
       "16    Sustainable Hub               60000            34000.0   \n",
       "17     Nature's Place               36000            20000.0   \n",
       "18      Green Terrace               40000            23000.0   \n",
       "19      Solar Heights               63000            36000.0   \n",
       "20     BioTech Center               47000            26000.0   \n",
       "21          Eco Oasis               41000            23000.0   \n",
       "22         Green Park               48000            27000.0   \n",
       "23      Sunrise Tower               70000            39000.0   \n",
       "24        Eco Village               52000            29000.0   \n",
       "25  Green Innovations               46000            26000.0   \n",
       "26        Sunset View               64000            36000.0   \n",
       "27         Eco Center               55000            31000.0   \n",
       "28       Green Living               38000            21000.0   \n",
       "29     Sunshine Plaza               43000            24000.0   \n",
       "30        Eco Heights               60000            34000.0   \n",
       "31        Green Oasis               49000            28000.0   \n",
       "32    Sunrise Terrace               72000            40000.0   \n",
       "33        Eco Complex               58000            33000.0   \n",
       "34        Green Haven               52000            29000.0   \n",
       "35       Sunset Tower               66000            37000.0   \n",
       "36    Eco Innovations               44000            25000.0   \n",
       "37         Green Park               48000            27000.0   \n",
       "38      Sunrise Plaza               68000            38000.0   \n",
       "39        Eco Village               52000            29000.0   \n",
       "40        Green Oasis               49000            28000.0   \n",
       "41      Sunshine View               65000            36000.0   \n",
       "42        Eco Heights               60000            34000.0   \n",
       "43       Green Living               38000            21000.0   \n",
       "44     Sunset Terrace               41000            23000.0   \n",
       "\n",
       "    GHG_Emissions (kg)  Waste_Generation (kg/month) Type_of_Building  \\\n",
       "0                 6000                    -0.771319      Residential   \n",
       "1                 4800                    -1.557615        Comercial   \n",
       "2                10500                     2.036881        Comercial   \n",
       "3                 7000                    -0.209679        Comercial   \n",
       "4                 5800                    -0.995975           School   \n",
       "5                 6500                    -0.546663      Residential   \n",
       "6                 4500                    -1.782270        Comercial   \n",
       "7                 9500                     1.475241      Residential   \n",
       "8                 7200                     0.014977           School   \n",
       "9                 6000                    -0.771319           School   \n",
       "10                6200                    -0.658991        Comercial   \n",
       "11                9200                     1.250585      Residential   \n",
       "12                6800                    -0.322007           School   \n",
       "13                6100                    -0.771319      Residential   \n",
       "14               10000                     1.812225        Comercial   \n",
       "15                6900                    -0.209679      Residential   \n",
       "16                7500                     0.127305        Comercial   \n",
       "17                5200                    -1.332959           School   \n",
       "18                5900                    -0.883647      Residential   \n",
       "19                8800                     1.025929      Residential   \n",
       "20                6200                    -0.658991        Comercial   \n",
       "21                5800                    -0.995975           School   \n",
       "22                6900                    -0.209679      Residential   \n",
       "23                9600                     1.475241        Comercial   \n",
       "24                7000                    -0.097351      Residential   \n",
       "25                6500                    -0.546663        Comercial   \n",
       "26                9200                     1.250585           School   \n",
       "27                7500                     0.127305           School   \n",
       "28                5500                    -1.108303      Residential   \n",
       "29                6000                    -0.771319        Comercial   \n",
       "30                8400                     0.801273      Residential   \n",
       "31                7200                     0.014977           School   \n",
       "32               10000                     1.812225      Residential   \n",
       "33                8000                     0.464289      Residential   \n",
       "34                7000                    -0.097351           School   \n",
       "35                9200                     1.250585      Residential   \n",
       "36                6200                    -0.658991        Comercial   \n",
       "37                6900                    -0.209679      Residential   \n",
       "38                9500                     1.475241      Residential   \n",
       "39                7000                    -0.097351           School   \n",
       "40                7200                     0.014977           School   \n",
       "41                8900                     1.138257           School   \n",
       "42                8400                     0.801273      Residential   \n",
       "43                5500                    -1.108303           School   \n",
       "44                5800                    -0.995975      Residential   \n",
       "\n",
       "    Waste_Generation (kg/month) [Normalized]  \n",
       "0                                   0.264706  \n",
       "1                                   0.058824  \n",
       "2                                   1.000000  \n",
       "3                                   0.411765  \n",
       "4                                   0.205882  \n",
       "5                                   0.323529  \n",
       "6                                   0.000000  \n",
       "7                                   0.852941  \n",
       "8                                   0.470588  \n",
       "9                                   0.264706  \n",
       "10                                  0.294118  \n",
       "11                                  0.794118  \n",
       "12                                  0.382353  \n",
       "13                                  0.264706  \n",
       "14                                  0.941176  \n",
       "15                                  0.411765  \n",
       "16                                  0.500000  \n",
       "17                                  0.117647  \n",
       "18                                  0.235294  \n",
       "19                                  0.735294  \n",
       "20                                  0.294118  \n",
       "21                                  0.205882  \n",
       "22                                  0.411765  \n",
       "23                                  0.852941  \n",
       "24                                  0.441176  \n",
       "25                                  0.323529  \n",
       "26                                  0.794118  \n",
       "27                                  0.500000  \n",
       "28                                  0.176471  \n",
       "29                                  0.264706  \n",
       "30                                  0.676471  \n",
       "31                                  0.470588  \n",
       "32                                  0.941176  \n",
       "33                                  0.588235  \n",
       "34                                  0.441176  \n",
       "35                                  0.794118  \n",
       "36                                  0.294118  \n",
       "37                                  0.411765  \n",
       "38                                  0.852941  \n",
       "39                                  0.441176  \n",
       "40                                  0.470588  \n",
       "41                                  0.764706  \n",
       "42                                  0.676471  \n",
       "43                                  0.176471  \n",
       "44                                  0.205882  >"
      ]
     },
     "execution_count": 33,
     "metadata": {},
     "output_type": "execute_result"
    }
   ],
   "source": [
    "df.describe"
   ]
  },
  {
   "cell_type": "markdown",
   "id": "48808eff",
   "metadata": {
    "id": "48808eff"
   },
   "source": [
    "For a concise summary of your dataset:"
   ]
  },
  {
   "cell_type": "code",
   "execution_count": 34,
   "id": "a847617c",
   "metadata": {
    "id": "a847617c"
   },
   "outputs": [
    {
     "data": {
      "text/plain": [
       "<bound method DataFrame.info of         Building_Name  Energy_Usage (kWh)  Water_Usage (gal)  \\\n",
       "0           Eco Tower               45000            28000.0   \n",
       "1        Green Office               32000            18000.0   \n",
       "2        Solaris Mall               75000            42000.0   \n",
       "3      Sustainable HQ               56000            32000.0   \n",
       "4           Eco Haven               39000                NaN   \n",
       "5        Eco Dynamics               42000            24000.0   \n",
       "6         Green Plaza               30000            17000.0   \n",
       "7       Solar Heights               68000            38000.0   \n",
       "8         Terra Green               59000            33000.0   \n",
       "9       BioTech Tower               48000            27000.0   \n",
       "10    Eco Innovations               44000            25000.0   \n",
       "11        Aqua Center               67000            37000.0   \n",
       "12       Harmony Hall               51000            29000.0   \n",
       "13      Green Horizon               43000            24000.0   \n",
       "14  Solar Power Plaza               72000            40000.0   \n",
       "15    Eco Office Park               55000            31000.0   \n",
       "16    Sustainable Hub               60000            34000.0   \n",
       "17     Nature's Place               36000            20000.0   \n",
       "18      Green Terrace               40000            23000.0   \n",
       "19      Solar Heights               63000            36000.0   \n",
       "20     BioTech Center               47000            26000.0   \n",
       "21          Eco Oasis               41000            23000.0   \n",
       "22         Green Park               48000            27000.0   \n",
       "23      Sunrise Tower               70000            39000.0   \n",
       "24        Eco Village               52000            29000.0   \n",
       "25  Green Innovations               46000            26000.0   \n",
       "26        Sunset View               64000            36000.0   \n",
       "27         Eco Center               55000            31000.0   \n",
       "28       Green Living               38000            21000.0   \n",
       "29     Sunshine Plaza               43000            24000.0   \n",
       "30        Eco Heights               60000            34000.0   \n",
       "31        Green Oasis               49000            28000.0   \n",
       "32    Sunrise Terrace               72000            40000.0   \n",
       "33        Eco Complex               58000            33000.0   \n",
       "34        Green Haven               52000            29000.0   \n",
       "35       Sunset Tower               66000            37000.0   \n",
       "36    Eco Innovations               44000            25000.0   \n",
       "37         Green Park               48000            27000.0   \n",
       "38      Sunrise Plaza               68000            38000.0   \n",
       "39        Eco Village               52000            29000.0   \n",
       "40        Green Oasis               49000            28000.0   \n",
       "41      Sunshine View               65000            36000.0   \n",
       "42        Eco Heights               60000            34000.0   \n",
       "43       Green Living               38000            21000.0   \n",
       "44     Sunset Terrace               41000            23000.0   \n",
       "\n",
       "    GHG_Emissions (kg)  Waste_Generation (kg/month) Type_of_Building  \\\n",
       "0                 6000                    -0.771319      Residential   \n",
       "1                 4800                    -1.557615        Comercial   \n",
       "2                10500                     2.036881        Comercial   \n",
       "3                 7000                    -0.209679        Comercial   \n",
       "4                 5800                    -0.995975           School   \n",
       "5                 6500                    -0.546663      Residential   \n",
       "6                 4500                    -1.782270        Comercial   \n",
       "7                 9500                     1.475241      Residential   \n",
       "8                 7200                     0.014977           School   \n",
       "9                 6000                    -0.771319           School   \n",
       "10                6200                    -0.658991        Comercial   \n",
       "11                9200                     1.250585      Residential   \n",
       "12                6800                    -0.322007           School   \n",
       "13                6100                    -0.771319      Residential   \n",
       "14               10000                     1.812225        Comercial   \n",
       "15                6900                    -0.209679      Residential   \n",
       "16                7500                     0.127305        Comercial   \n",
       "17                5200                    -1.332959           School   \n",
       "18                5900                    -0.883647      Residential   \n",
       "19                8800                     1.025929      Residential   \n",
       "20                6200                    -0.658991        Comercial   \n",
       "21                5800                    -0.995975           School   \n",
       "22                6900                    -0.209679      Residential   \n",
       "23                9600                     1.475241        Comercial   \n",
       "24                7000                    -0.097351      Residential   \n",
       "25                6500                    -0.546663        Comercial   \n",
       "26                9200                     1.250585           School   \n",
       "27                7500                     0.127305           School   \n",
       "28                5500                    -1.108303      Residential   \n",
       "29                6000                    -0.771319        Comercial   \n",
       "30                8400                     0.801273      Residential   \n",
       "31                7200                     0.014977           School   \n",
       "32               10000                     1.812225      Residential   \n",
       "33                8000                     0.464289      Residential   \n",
       "34                7000                    -0.097351           School   \n",
       "35                9200                     1.250585      Residential   \n",
       "36                6200                    -0.658991        Comercial   \n",
       "37                6900                    -0.209679      Residential   \n",
       "38                9500                     1.475241      Residential   \n",
       "39                7000                    -0.097351           School   \n",
       "40                7200                     0.014977           School   \n",
       "41                8900                     1.138257           School   \n",
       "42                8400                     0.801273      Residential   \n",
       "43                5500                    -1.108303           School   \n",
       "44                5800                    -0.995975      Residential   \n",
       "\n",
       "    Waste_Generation (kg/month) [Normalized]  \n",
       "0                                   0.264706  \n",
       "1                                   0.058824  \n",
       "2                                   1.000000  \n",
       "3                                   0.411765  \n",
       "4                                   0.205882  \n",
       "5                                   0.323529  \n",
       "6                                   0.000000  \n",
       "7                                   0.852941  \n",
       "8                                   0.470588  \n",
       "9                                   0.264706  \n",
       "10                                  0.294118  \n",
       "11                                  0.794118  \n",
       "12                                  0.382353  \n",
       "13                                  0.264706  \n",
       "14                                  0.941176  \n",
       "15                                  0.411765  \n",
       "16                                  0.500000  \n",
       "17                                  0.117647  \n",
       "18                                  0.235294  \n",
       "19                                  0.735294  \n",
       "20                                  0.294118  \n",
       "21                                  0.205882  \n",
       "22                                  0.411765  \n",
       "23                                  0.852941  \n",
       "24                                  0.441176  \n",
       "25                                  0.323529  \n",
       "26                                  0.794118  \n",
       "27                                  0.500000  \n",
       "28                                  0.176471  \n",
       "29                                  0.264706  \n",
       "30                                  0.676471  \n",
       "31                                  0.470588  \n",
       "32                                  0.941176  \n",
       "33                                  0.588235  \n",
       "34                                  0.441176  \n",
       "35                                  0.794118  \n",
       "36                                  0.294118  \n",
       "37                                  0.411765  \n",
       "38                                  0.852941  \n",
       "39                                  0.441176  \n",
       "40                                  0.470588  \n",
       "41                                  0.764706  \n",
       "42                                  0.676471  \n",
       "43                                  0.176471  \n",
       "44                                  0.205882  >"
      ]
     },
     "execution_count": 34,
     "metadata": {},
     "output_type": "execute_result"
    }
   ],
   "source": [
    "df.info"
   ]
  },
  {
   "cell_type": "markdown",
   "id": "c1e7fb3d",
   "metadata": {
    "id": "c1e7fb3d"
   },
   "source": [
    "## Cleaning Data"
   ]
  },
  {
   "cell_type": "markdown",
   "id": "8ab0b247",
   "metadata": {
    "id": "ead5b990"
   },
   "source": [
    "Sometimes datasets aren't perfect and there are missing values or duplicates. It's important to remove these values if we want to conduct data analysis that makes sense. Missing values show up as 'NaN' on Python, and we use np.nan in code to refer to them."
   ]
  },
  {
   "cell_type": "code",
   "execution_count": 35,
   "id": "ddf95b58",
   "metadata": {},
   "outputs": [
    {
     "ename": "AttributeError",
     "evalue": "'function' object has no attribute 'sum'",
     "output_type": "error",
     "traceback": [
      "\u001b[0;31m---------------------------------------------------------------------------\u001b[0m",
      "\u001b[0;31mAttributeError\u001b[0m                            Traceback (most recent call last)",
      "Cell \u001b[0;32mIn[35], line 1\u001b[0m\n\u001b[0;32m----> 1\u001b[0m df\u001b[38;5;241m.\u001b[39misnull\u001b[38;5;241m.\u001b[39msum()\n",
      "\u001b[0;31mAttributeError\u001b[0m: 'function' object has no attribute 'sum'"
     ]
    }
   ],
   "source": [
    "df.isnull.sum()"
   ]
  },
  {
   "cell_type": "code",
   "execution_count": 10,
   "id": "244bf836",
   "metadata": {
    "id": "244bf836"
   },
   "outputs": [],
   "source": [
    "#replace missing value with whatever you want using .replace\n"
   ]
  },
  {
   "cell_type": "code",
   "execution_count": 11,
   "id": "13e99c60",
   "metadata": {
    "id": "13e99c60"
   },
   "outputs": [],
   "source": [
    "#or replace the missing value with the mean of that column. hint: use .mean\n"
   ]
  },
  {
   "cell_type": "code",
   "execution_count": 12,
   "id": "c47883c2",
   "metadata": {},
   "outputs": [],
   "source": [
    "#to drop duplicates, use .drop_duplicates()"
   ]
  },
  {
   "cell_type": "markdown",
   "id": "db91de11",
   "metadata": {
    "id": "db91de11"
   },
   "source": [
    "# Data Wrangling"
   ]
  },
  {
   "cell_type": "markdown",
   "id": "dbbb5968",
   "metadata": {
    "id": "dbbb5968"
   },
   "source": [
    "## Data Formatting"
   ]
  },
  {
   "cell_type": "markdown",
   "id": "7ade5304",
   "metadata": {
    "id": "7ade5304"
   },
   "source": [
    "You can apply calculations to entire columns. Let's say you want to convert Water Usage from gallons to liters:"
   ]
  },
  {
   "cell_type": "code",
   "execution_count": 13,
   "id": "71bd8877",
   "metadata": {
    "id": "71bd8877"
   },
   "outputs": [],
   "source": [
    "#convert gallons to liters using conversion factor of 1 gal = 3.78541 L"
   ]
  },
  {
   "cell_type": "code",
   "execution_count": 14,
   "id": "10f53f28",
   "metadata": {
    "id": "10f53f28"
   },
   "outputs": [],
   "source": [
    "#rename column using .rename"
   ]
  },
  {
   "cell_type": "markdown",
   "id": "8f2c72fb",
   "metadata": {
    "id": "8f2c72fb"
   },
   "source": [
    "You can also convert an object's data type:"
   ]
  },
  {
   "cell_type": "code",
   "execution_count": 15,
   "id": "e4fb86d7",
   "metadata": {
    "id": "e4fb86d7"
   },
   "outputs": [],
   "source": [
    "#use .astype"
   ]
  },
  {
   "cell_type": "markdown",
   "id": "4d0d3b63",
   "metadata": {
    "id": "4d0d3b63"
   },
   "source": [
    "## Data Normalization"
   ]
  },
  {
   "cell_type": "markdown",
   "id": "dd073ae5",
   "metadata": {
    "id": "dd073ae5"
   },
   "source": [
    "Sometimes we want to normalize data so that values are all within the same range. When we look at our dataset, for example, Energy Usage and Waste Generation are in different ranges. When we do data analysis with these two variables, Energy Usage can influence our results more since the numbers are \"larger\". To avoid this issue and eliminate data biases, we can normalize our data:"
   ]
  },
  {
   "cell_type": "markdown",
   "id": "7a9f93c3",
   "metadata": {
    "id": "7a9f93c3"
   },
   "source": [
    "#### Simple Feature Scaling"
   ]
  },
  {
   "cell_type": "code",
   "execution_count": 16,
   "id": "c6aa9116",
   "metadata": {
    "id": "c6aa9116"
   },
   "outputs": [],
   "source": [
    "df[\"Waste_Generation (kg/month) [Normalized]\"] = df[\"Waste_Generation (kg/month)\"]/df[\"Waste_Generation (kg/month)\"].max()\n",
    "#and we can do the same thing with Energy Usage"
   ]
  },
  {
   "cell_type": "markdown",
   "id": "0cb07dfa",
   "metadata": {
    "id": "0cb07dfa"
   },
   "source": [
    "#### Min-Max"
   ]
  },
  {
   "cell_type": "code",
   "execution_count": 17,
   "id": "0029df6b",
   "metadata": {
    "id": "0029df6b"
   },
   "outputs": [],
   "source": [
    "df[\"Waste_Generation (kg/month) [Normalized]\"] = (df[\"Waste_Generation (kg/month)\"]-df[\"Waste_Generation (kg/month)\"].min())/(df[\"Waste_Generation (kg/month)\"].max()-df[\"Waste_Generation (kg/month)\"].min())"
   ]
  },
  {
   "cell_type": "markdown",
   "id": "0f0b1399",
   "metadata": {
    "id": "0f0b1399"
   },
   "source": [
    "#### Z-Score"
   ]
  },
  {
   "cell_type": "code",
   "execution_count": 18,
   "id": "ebb70b9f",
   "metadata": {
    "id": "ebb70b9f"
   },
   "outputs": [],
   "source": [
    "df[\"Waste_Generation (kg/month)\"] = (df[\"Waste_Generation (kg/month)\"]-df[\"Waste_Generation (kg/month)\"].mean())/df[\"Waste_Generation (kg/month)\"].std()"
   ]
  },
  {
   "cell_type": "markdown",
   "id": "195e4a96",
   "metadata": {
    "id": "195e4a96"
   },
   "source": [
    "## Binning"
   ]
  },
  {
   "cell_type": "markdown",
   "id": "f95f28e4",
   "metadata": {
    "id": "f95f28e4"
   },
   "source": [
    "Sometimes we want to convert continuous data into discrete data and group our data into small groups."
   ]
  },
  {
   "cell_type": "code",
   "execution_count": 19,
   "id": "3e851162",
   "metadata": {
    "id": "3e851162"
   },
   "outputs": [],
   "source": [
    "#define numberofbins:\n",
    "\n",
    "#use np.linspace to set up bins:"
   ]
  },
  {
   "cell_type": "code",
   "execution_count": 20,
   "id": "93933ede",
   "metadata": {
    "id": "93933ede"
   },
   "outputs": [],
   "source": [
    "#set bin names"
   ]
  },
  {
   "cell_type": "code",
   "execution_count": 21,
   "id": "05d9b973",
   "metadata": {
    "id": "05d9b973"
   },
   "outputs": [],
   "source": [
    "#add bin columns to df using pd.cut"
   ]
  },
  {
   "cell_type": "markdown",
   "id": "b8cf11bf",
   "metadata": {
    "id": "b8cf11bf"
   },
   "source": [
    "## Converting categorical variables into quantitative variables"
   ]
  },
  {
   "cell_type": "markdown",
   "id": "8e8f4f37",
   "metadata": {
    "id": "8e8f4f37"
   },
   "source": [
    "Sometimes we want need our categorical variables to have some numeric value so that we can conduct data analysis. Let's say we wanted to see the effect of the type of building on energy usage (which should be a mathematical relationship). Type of building is a categorical variable, so we want to give it numeric value by converting it into a quantiative variable."
   ]
  },
  {
   "cell_type": "code",
   "execution_count": 22,
   "id": "f1afd250",
   "metadata": {
    "id": "f1afd250"
   },
   "outputs": [],
   "source": [
    "#assigns a dummy variable to each categorical variable using pd.get_dummies"
   ]
  },
  {
   "cell_type": "code",
   "execution_count": 23,
   "id": "dbef9f78",
   "metadata": {
    "id": "dbef9f78"
   },
   "outputs": [],
   "source": [
    "#save a new dataframe with the new columns using .join"
   ]
  },
  {
   "cell_type": "markdown",
   "id": "8e6736df",
   "metadata": {},
   "source": [
    "# Data Visualization (Basics)"
   ]
  },
  {
   "cell_type": "markdown",
   "id": "d0125401",
   "metadata": {},
   "source": [
    "Data visualizations help us see distributions and relationships in a dataset. "
   ]
  },
  {
   "cell_type": "markdown",
   "id": "0cb778df",
   "metadata": {},
   "source": [
    "### Histogram\n",
    "Make a histogram of energy usage."
   ]
  },
  {
   "cell_type": "code",
   "execution_count": 24,
   "id": "29cccdcd",
   "metadata": {},
   "outputs": [],
   "source": [
    "# use .hist()"
   ]
  },
  {
   "cell_type": "markdown",
   "id": "b42554a6",
   "metadata": {},
   "source": [
    "### Scatterplot\n",
    "Create a scatterplot of Energy Usage vs. Waste Generation"
   ]
  },
  {
   "cell_type": "code",
   "execution_count": 25,
   "id": "3c6d851a",
   "metadata": {},
   "outputs": [],
   "source": [
    "# use plt.scatter()"
   ]
  },
  {
   "cell_type": "markdown",
   "id": "65ed94f9",
   "metadata": {},
   "source": [
    "### Boxplot\n",
    "Box plots are an easy way to demonstrate the statistics of a dataset. \n",
    "\n",
    "Make a boxplot of Waste Generation grouped by Building Type."
   ]
  },
  {
   "cell_type": "code",
   "execution_count": 26,
   "id": "14c83e88",
   "metadata": {},
   "outputs": [],
   "source": [
    "# use sns.boxplot"
   ]
  },
  {
   "cell_type": "markdown",
   "id": "e1a537d1-38d9-4fa5-a9fd-fbb4081a86de",
   "metadata": {},
   "source": [
    "## Basics of Time Series Analysis\n",
    "Time series analysis involves analyzing time-ordered data to identify trends, seasonal patterns, and other characteristics to extract insights and make future predictions."
   ]
  },
  {
   "cell_type": "markdown",
   "id": "a52a63dc-61cc-4cbc-923d-e9c0641cde4d",
   "metadata": {},
   "source": [
    "First, let's practice importing a dataset again. Download the Mexico City Air Quality Data from our training resources folder and load it into the notebook."
   ]
  },
  {
   "cell_type": "code",
   "execution_count": null,
   "id": "fc79a17e-cdb2-4f20-a1e5-30511900dcb8",
   "metadata": {},
   "outputs": [],
   "source": []
  },
  {
   "cell_type": "markdown",
   "id": "b260b507-4ad3-46c1-bfca-5fa5b75c64b5",
   "metadata": {},
   "source": [
    "Now let's explore the dataset using some of the functions we learned before."
   ]
  },
  {
   "cell_type": "code",
   "execution_count": 27,
   "id": "ae3ec7ac-8023-44aa-b55d-e4058b416af0",
   "metadata": {},
   "outputs": [],
   "source": [
    "#hint: use .head(), .info(), and .describe()\n"
   ]
  },
  {
   "cell_type": "markdown",
   "id": "837f8749-e15a-404a-9317-dde3ffebec36",
   "metadata": {},
   "source": [
    "Look for what each column represents. Which one is time? Which are pollutants? Also, are all the columns numeric?"
   ]
  },
  {
   "cell_type": "markdown",
   "id": "42d453d7-fa82-4297-87ea-6fbe1a3fe4b3",
   "metadata": {},
   "source": [
    "#### Converting Data to Datetime Form\n",
    "\n",
    "Before we can do any time series analysis, we need to clean the data and convert the timestamp into datetime form."
   ]
  },
  {
   "cell_type": "code",
   "execution_count": 28,
   "id": "d34edab6-d241-4503-bd85-982b474f40b0",
   "metadata": {},
   "outputs": [],
   "source": [
    "## Convert the timestamp column to datetime\n",
    "#df['Timestamp'] = pd.to_datetime(df['Timestamp'], dayfirst=True)\n",
    "\n",
    "# Set as index\n",
    "#df = df.set_index('Timestamp')\n",
    "\n",
    "# Check the new index\n",
    "#df.index"
   ]
  },
  {
   "cell_type": "markdown",
   "id": "9936edad-d6f5-4a89-8f25-b0606d1bf042",
   "metadata": {},
   "source": [
    "Notice the day/month order — dayfirst=True helps parse correctly."
   ]
  },
  {
   "cell_type": "markdown",
   "id": "cf4335d4-bb5f-4674-af87-bb63120b0b16",
   "metadata": {},
   "source": [
    "#### Handle Missing Data\n",
    "We also need to check for missing values and decide how to handle them. Of the two options, try either."
   ]
  },
  {
   "cell_type": "code",
   "execution_count": 29,
   "id": "54f4ca02-c1a0-4311-b194-f9bf884a1bfd",
   "metadata": {},
   "outputs": [],
   "source": [
    "# Check for missing values\n",
    "#df.isna().sum()\n",
    "\n",
    "# Option 1: Drop missing rows\n",
    "#df_clean = df.dropna()\n",
    "\n",
    "# Option 2: Fill missing values using interpolation\n",
    "#df_clean = df.interpolate(method='time')"
   ]
  },
  {
   "cell_type": "markdown",
   "id": "6954a306-717f-4b3e-a142-9ae8711e5f86",
   "metadata": {},
   "source": [
    "Note: Interpolation is better for time series because it estimates based on trends rather than removing rows."
   ]
  },
  {
   "cell_type": "markdown",
   "id": "11371526-98ff-4e2b-9772-d17893d47cd4",
   "metadata": {},
   "source": [
    "#### Visualizing Time Series"
   ]
  },
  {
   "cell_type": "markdown",
   "id": "1ea2aaf4-61bc-4208-bb70-497008399c7e",
   "metadata": {},
   "source": [
    "We want to visualize the air pollutant levels provided by the dataset, so let's plot pollutant trends over time."
   ]
  },
  {
   "cell_type": "code",
   "execution_count": 30,
   "id": "827cd52e-c76d-4561-83d7-7dc8d284b0f3",
   "metadata": {},
   "outputs": [],
   "source": [
    "#df_clean[['PM2.5 [ug/m3]', 'PM10[ug/m3]', 'Ozone [ppb]']].plot(figsize=(10,5))\n",
    "#plt.title(\"Air Pollutant Levels Over Time\")\n",
    "#plt.xlabel(\"Time\")\n",
    "#plt.ylabel(\"Concentration\")\n",
    "#plt.show()"
   ]
  },
  {
   "cell_type": "markdown",
   "id": "fc092467-f5ca-4238-8196-03e74ad06621",
   "metadata": {},
   "source": [
    "Hint: Start with a small sample (e.g. one month) if your plot of all the data looks crowded."
   ]
  }
 ],
 "metadata": {
  "colab": {
   "provenance": []
  },
  "kernelspec": {
   "display_name": "base",
   "language": "python",
   "name": "python3"
  },
  "language_info": {
   "codemirror_mode": {
    "name": "ipython",
    "version": 3
   },
   "file_extension": ".py",
   "mimetype": "text/x-python",
   "name": "python",
   "nbconvert_exporter": "python",
   "pygments_lexer": "ipython3",
   "version": "3.13.5"
  }
 },
 "nbformat": 4,
 "nbformat_minor": 5
}
