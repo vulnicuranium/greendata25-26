{
 "cells": [
  {
   "cell_type": "markdown",
   "id": "8d8bca57",
   "metadata": {
    "id": "8d8bca57"
   },
   "source": [
    "# Notebook 1: Green Data Python Analysis – Foundations\n",
    "### Welcome to Green Data!\n",
    "\n",
    "### Topics covered: Python Setup, Data Cleaning, Data Wrangling, Data Visualization (basics)\n"
   ]
  },
  {
   "cell_type": "markdown",
   "id": "352eaa0e",
   "metadata": {
    "id": "352eaa0e"
   },
   "source": [
    "## Getting Started with Python"
   ]
  },
  {
   "cell_type": "markdown",
   "id": "cb7ab4e4",
   "metadata": {
    "id": "cb7ab4e4"
   },
   "source": [
    "#### Importing Packages"
   ]
  },
  {
   "cell_type": "markdown",
   "id": "dc7b158e",
   "metadata": {
    "id": "dc7b158e"
   },
   "source": [
    "Packages contain useful functions that anyone can import to use on Python. These are the main ones we will be using:"
   ]
  },
  {
   "cell_type": "code",
   "execution_count": null,
   "id": "5c91c5d9",
   "metadata": {
    "id": "5c91c5d9"
   },
   "outputs": [],
   "source": [
    "import numpy as np  #for mathematical operations\n",
    "\n",
    "import scipy as sc #for more advanced mathematical operations\n",
    "\n",
    "import matplotlib.pyplot as plt  #for plotting data\n",
    "\n",
    "import pandas as pd  #for data analysis"
   ]
  },
  {
   "cell_type": "markdown",
   "id": "ea1511b8",
   "metadata": {
    "id": "ea1511b8"
   },
   "source": [
    "#### Importing Datasets"
   ]
  },
  {
   "cell_type": "markdown",
   "id": "81ceeece",
   "metadata": {
    "id": "81ceeece"
   },
   "source": [
    "First, download the example dataset from our Green Data folder here: https://drive.google.com/drive/u/1/folders/1K5UGTtDnP4tCr5Y3hJNCDsuPKoV2JZFR\n",
    "\n",
    "Make sure you save it somewhere you can find the path."
   ]
  },
  {
   "cell_type": "markdown",
   "id": "95431b40",
   "metadata": {
    "id": "95431b40"
   },
   "source": [
    "Define an object called 'path' with the path where you saved your dataset. It should look something like this:\n",
    "\"/Users/panchalichoudhary/Desktop/GD_exampledataset.csv\"\n",
    "\n",
    "Make sure you don't forget the quotation marks."
   ]
  },
  {
   "cell_type": "code",
   "execution_count": 1,
   "id": "dea62230",
   "metadata": {
    "id": "dea62230"
   },
   "outputs": [
    {
     "ename": "SyntaxError",
     "evalue": "invalid syntax (278054788.py, line 2)",
     "output_type": "error",
     "traceback": [
      "\u001b[0;36m  Cell \u001b[0;32mIn[1], line 2\u001b[0;36m\u001b[0m\n\u001b[0;31m    path =\u001b[0m\n\u001b[0m          ^\u001b[0m\n\u001b[0;31mSyntaxError\u001b[0m\u001b[0;31m:\u001b[0m invalid syntax\n"
     ]
    }
   ],
   "source": [
    "# Define the path to your dataset\n",
    "path ="
   ]
  },
  {
   "cell_type": "markdown",
   "id": "3af731d7",
   "metadata": {
    "id": "3af731d7"
   },
   "source": [
    "Now, we will use the pandas function pd.read_csv() to import our dataset. Define an object called 'df', plugging your path into the function."
   ]
  },
  {
   "cell_type": "code",
   "execution_count": null,
   "id": "cb284c9d",
   "metadata": {
    "id": "cb284c9d"
   },
   "outputs": [],
   "source": [
    "# Read in your dataset with pandas\n",
    "# df = pd.read_csv(path)\n"
   ]
  },
  {
   "cell_type": "markdown",
   "id": "8f848599",
   "metadata": {
    "id": "8f848599"
   },
   "source": [
    "Visualize your dataset."
   ]
  },
  {
   "cell_type": "code",
   "execution_count": 2,
   "id": "a649f400",
   "metadata": {
    "id": "a649f400"
   },
   "outputs": [],
   "source": [
    "# Display the first few rows\n",
    "# df.head()\n",
    "\n",
    "# Or view the entire dataset\n",
    "# df or print(df)"
   ]
  },
  {
   "cell_type": "markdown",
   "id": "1b306656",
   "metadata": {
    "id": "1b306656"
   },
   "source": [
    "## Introduction to Data Analysis \n",
    "#### Basic Functions"
   ]
  },
  {
   "cell_type": "markdown",
   "id": "e894a28d",
   "metadata": {
    "id": "e894a28d"
   },
   "source": [
    "To check data types present in a dataset:"
   ]
  },
  {
   "cell_type": "code",
   "execution_count": null,
   "id": "be033b91",
   "metadata": {
    "id": "be033b91"
   },
   "outputs": [],
   "source": [
    "#use .dtypes"
   ]
  },
  {
   "cell_type": "markdown",
   "id": "145cf926",
   "metadata": {
    "id": "145cf926"
   },
   "source": [
    "For a brief statistical summary:"
   ]
  },
  {
   "cell_type": "code",
   "execution_count": null,
   "id": "cbdaf1f4",
   "metadata": {
    "id": "cbdaf1f4"
   },
   "outputs": [],
   "source": [
    "#use .describe"
   ]
  },
  {
   "cell_type": "markdown",
   "id": "c33350b8",
   "metadata": {
    "id": "c33350b8"
   },
   "source": [
    "For a full statistical summary (all columns, including non-numerical):"
   ]
  },
  {
   "cell_type": "code",
   "execution_count": null,
   "id": "79d2c574",
   "metadata": {
    "id": "79d2c574"
   },
   "outputs": [],
   "source": [
    "#modify .describe"
   ]
  },
  {
   "cell_type": "markdown",
   "id": "48808eff",
   "metadata": {
    "id": "48808eff"
   },
   "source": [
    "For a concise summary of your dataset:"
   ]
  },
  {
   "cell_type": "code",
   "execution_count": null,
   "id": "a847617c",
   "metadata": {
    "id": "a847617c"
   },
   "outputs": [],
   "source": [
    "#use .info"
   ]
  },
  {
   "cell_type": "markdown",
   "id": "c1e7fb3d",
   "metadata": {
    "id": "c1e7fb3d"
   },
   "source": [
    "## Cleaning Data"
   ]
  },
  {
   "cell_type": "markdown",
   "id": "8ab0b247",
   "metadata": {
    "id": "ead5b990"
   },
   "source": [
    "Sometimes datasets aren't perfect and there are missing values or duplicates. It's important to remove these values if we want to conduct data analysis that makes sense. Missing values show up as 'NaN' on Python, and we use np.nan in code to refer to them."
   ]
  },
  {
   "cell_type": "code",
   "execution_count": null,
   "id": "ddf95b58",
   "metadata": {},
   "outputs": [],
   "source": [
    "#check missing values using .isnull.sum()"
   ]
  },
  {
   "cell_type": "code",
   "execution_count": null,
   "id": "244bf836",
   "metadata": {
    "id": "244bf836"
   },
   "outputs": [],
   "source": [
    "#replace missing value with whatever you want using .replace\n"
   ]
  },
  {
   "cell_type": "code",
   "execution_count": null,
   "id": "13e99c60",
   "metadata": {
    "id": "13e99c60"
   },
   "outputs": [],
   "source": [
    "#or replace the missing value with the mean of that column. hint: use .mean\n"
   ]
  },
  {
   "cell_type": "code",
   "execution_count": 3,
   "id": "c47883c2",
   "metadata": {},
   "outputs": [],
   "source": [
    "#to drop duplicates, use .drop_duplicates()"
   ]
  },
  {
   "cell_type": "markdown",
   "id": "db91de11",
   "metadata": {
    "id": "db91de11"
   },
   "source": [
    "# Data Wrangling"
   ]
  },
  {
   "cell_type": "markdown",
   "id": "dbbb5968",
   "metadata": {
    "id": "dbbb5968"
   },
   "source": [
    "## Data Formatting"
   ]
  },
  {
   "cell_type": "markdown",
   "id": "7ade5304",
   "metadata": {
    "id": "7ade5304"
   },
   "source": [
    "You can apply calculations to entire columns. Let's say you want to convert Water Usage from gallons to liters:"
   ]
  },
  {
   "cell_type": "code",
   "execution_count": null,
   "id": "71bd8877",
   "metadata": {
    "id": "71bd8877"
   },
   "outputs": [],
   "source": [
    "#convert gallons to liters using conversion factor of 1 gal = 3.78541 L"
   ]
  },
  {
   "cell_type": "code",
   "execution_count": null,
   "id": "10f53f28",
   "metadata": {
    "id": "10f53f28"
   },
   "outputs": [],
   "source": [
    "#rename column using .rename"
   ]
  },
  {
   "cell_type": "markdown",
   "id": "8f2c72fb",
   "metadata": {
    "id": "8f2c72fb"
   },
   "source": [
    "You can also convert an object's data type:"
   ]
  },
  {
   "cell_type": "code",
   "execution_count": null,
   "id": "e4fb86d7",
   "metadata": {
    "id": "e4fb86d7"
   },
   "outputs": [],
   "source": [
    "#use .astype"
   ]
  },
  {
   "cell_type": "markdown",
   "id": "4d0d3b63",
   "metadata": {
    "id": "4d0d3b63"
   },
   "source": [
    "## Data Normalization"
   ]
  },
  {
   "cell_type": "markdown",
   "id": "dd073ae5",
   "metadata": {
    "id": "dd073ae5"
   },
   "source": [
    "Sometimes we want to normalize data so that values are all within the same range. When we look at our dataset, for example, Energy Usage and Waste Generation are in different ranges. When we do data analysis with these two variables, Energy Usage can influence our results more since the numbers are \"larger\". To avoid this issue and eliminate data biases, we can normalize our data:"
   ]
  },
  {
   "cell_type": "markdown",
   "id": "7a9f93c3",
   "metadata": {
    "id": "7a9f93c3"
   },
   "source": [
    "#### Simple Feature Scaling"
   ]
  },
  {
   "cell_type": "code",
   "execution_count": null,
   "id": "c6aa9116",
   "metadata": {
    "id": "c6aa9116"
   },
   "outputs": [],
   "source": [
    "df[\"Waste_Generation (kg/month) [Normalized]\"] = df[\"Waste_Generation (kg/month)\"]/df[\"Waste_Generation (kg/month)\"].max()\n",
    "#and we can do the same thing with Energy Usage"
   ]
  },
  {
   "cell_type": "markdown",
   "id": "0cb07dfa",
   "metadata": {
    "id": "0cb07dfa"
   },
   "source": [
    "#### Min-Max"
   ]
  },
  {
   "cell_type": "code",
   "execution_count": null,
   "id": "0029df6b",
   "metadata": {
    "id": "0029df6b"
   },
   "outputs": [],
   "source": [
    "df[\"Waste_Generation (kg/month) [Normalized]\"] = (df[\"Waste_Generation (kg/month)\"]-df[\"Waste_Generation (kg/month)\"].min())/(df[\"Waste_Generation (kg/month)\"].max()-df[\"Waste_Generation (kg/month)\"].min())"
   ]
  },
  {
   "cell_type": "markdown",
   "id": "0f0b1399",
   "metadata": {
    "id": "0f0b1399"
   },
   "source": [
    "#### Z-Score"
   ]
  },
  {
   "cell_type": "code",
   "execution_count": null,
   "id": "ebb70b9f",
   "metadata": {
    "id": "ebb70b9f"
   },
   "outputs": [],
   "source": [
    "df[\"Waste_Generation (kg/month)\"] = (df[\"Waste_Generation (kg/month)\"]-df[\"Waste_Generation (kg/month)\"].mean())/df[\"Waste_Generation (kg/month)\"].std()"
   ]
  },
  {
   "cell_type": "markdown",
   "id": "195e4a96",
   "metadata": {
    "id": "195e4a96"
   },
   "source": [
    "## Binning"
   ]
  },
  {
   "cell_type": "markdown",
   "id": "f95f28e4",
   "metadata": {
    "id": "f95f28e4"
   },
   "source": [
    "Sometimes we want to convert continuous data into discrete data and group our data into small groups."
   ]
  },
  {
   "cell_type": "code",
   "execution_count": null,
   "id": "3e851162",
   "metadata": {
    "id": "3e851162"
   },
   "outputs": [],
   "source": [
    "#define numberofbins:\n",
    "\n",
    "#use np.linspace to set up bins:"
   ]
  },
  {
   "cell_type": "code",
   "execution_count": null,
   "id": "93933ede",
   "metadata": {
    "id": "93933ede"
   },
   "outputs": [],
   "source": [
    "#set bin names"
   ]
  },
  {
   "cell_type": "code",
   "execution_count": null,
   "id": "05d9b973",
   "metadata": {
    "id": "05d9b973"
   },
   "outputs": [],
   "source": [
    "#add bin columns to df using pd.cut"
   ]
  },
  {
   "cell_type": "markdown",
   "id": "b8cf11bf",
   "metadata": {
    "id": "b8cf11bf"
   },
   "source": [
    "## Converting categorical variables into quantitative variables"
   ]
  },
  {
   "cell_type": "markdown",
   "id": "8e8f4f37",
   "metadata": {
    "id": "8e8f4f37"
   },
   "source": [
    "Sometimes we want need our categorical variables to have some numeric value so that we can conduct data analysis. Let's say we wanted to see the effect of the type of building on energy usage (which should be a mathematical relationship). Type of building is a categorical variable, so we want to give it numeric value by converting it into a quantiative variable."
   ]
  },
  {
   "cell_type": "code",
   "execution_count": null,
   "id": "f1afd250",
   "metadata": {
    "id": "f1afd250"
   },
   "outputs": [],
   "source": [
    "#assigns a dummy variable to each categorical variable using pd.get_dummies"
   ]
  },
  {
   "cell_type": "code",
   "execution_count": null,
   "id": "dbef9f78",
   "metadata": {
    "id": "dbef9f78"
   },
   "outputs": [],
   "source": [
    "#save a new dataframe with the new columns using .join"
   ]
  },
  {
   "cell_type": "markdown",
   "id": "8e6736df",
   "metadata": {},
   "source": [
    "# Data Visualization (Basics)"
   ]
  },
  {
   "cell_type": "markdown",
   "id": "d0125401",
   "metadata": {},
   "source": [
    "Data visualizations help us see distributions and relationships in a dataset. "
   ]
  },
  {
   "cell_type": "markdown",
   "id": "0cb778df",
   "metadata": {},
   "source": [
    "### Histogram\n",
    "Make a histogram of energy usage."
   ]
  },
  {
   "cell_type": "code",
   "execution_count": null,
   "id": "29cccdcd",
   "metadata": {},
   "outputs": [],
   "source": [
    "# use .hist()"
   ]
  },
  {
   "cell_type": "markdown",
   "id": "b42554a6",
   "metadata": {},
   "source": [
    "### Scatterplot\n",
    "Create a scatterplot of Energy Usage vs. Waste Generation"
   ]
  },
  {
   "cell_type": "code",
   "execution_count": null,
   "id": "3c6d851a",
   "metadata": {},
   "outputs": [],
   "source": [
    "# use plt.scatter()"
   ]
  },
  {
   "cell_type": "markdown",
   "id": "65ed94f9",
   "metadata": {},
   "source": [
    "### Boxplot\n",
    "Box plots are an easy way to demonstrate the statistics of a dataset. \n",
    "\n",
    "Make a boxplot of Waste Generation grouped by Building Type."
   ]
  },
  {
   "cell_type": "code",
   "execution_count": null,
   "id": "14c83e88",
   "metadata": {},
   "outputs": [],
   "source": [
    "# use sns.boxplot"
   ]
  }
 ],
 "metadata": {
  "colab": {
   "provenance": []
  },
  "kernelspec": {
   "display_name": "Python [conda env:base] *",
   "language": "python",
   "name": "conda-base-py"
  },
  "language_info": {
   "codemirror_mode": {
    "name": "ipython",
    "version": 3
   },
   "file_extension": ".py",
   "mimetype": "text/x-python",
   "name": "python",
   "nbconvert_exporter": "python",
   "pygments_lexer": "ipython3",
   "version": "3.11.8"
  }
 },
 "nbformat": 4,
 "nbformat_minor": 5
}
